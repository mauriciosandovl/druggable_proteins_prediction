{
 "cells": [
  {
   "cell_type": "markdown",
   "metadata": {},
   "source": [
    "# Druggable Protein Classification (DPC)\n",
    "### Mauricio Sandoval Cuenca"
   ]
  },
  {
   "cell_type": "markdown",
   "metadata": {},
   "source": [
    "El proceso de desarrollo de fármacos implica una gran cantidad de etapas costosas y laboriosas en las que\n",
    "es necesario un alto nivel de seguridad. Tı́picamente el punto de partida es la identificación de moléculas\n",
    "objetivo (usualmente proteı́nas) sobre las cuales los fármacos puedan tener un efecto favorable. A esta\n",
    "propiedad se le conoce como druggability.\n",
    "\n",
    "A pesar de que se han usado diversos algoritmos basados en: Support Vector Machines, árboles de\n",
    "decisión, ensemble of classifiers, regresión logı́stica, redes bayesianas, etc., para identificar la drogabilidad\n",
    "de una molécula; las redes neuronales aún no han sido ampliamente exploradas para predecir cuando una\n",
    "proteı́na objetivo puede emplearse efectivamente para diseñar fármacos.\n",
    "\n",
    "En este trabajo exploramos las características de 5597 proteínas etiquetadas como positivas o negativas\n",
    "e implementamos una red neuronal de aprendizaje profundo como clasificador usando `PyTorch`."
   ]
  },
  {
   "cell_type": "code",
   "execution_count": 1,
   "metadata": {},
   "outputs": [],
   "source": [
    "# Basic libraries\n",
    "import numpy as np\n",
    "import pandas as pd\n",
    "import matplotlib.pyplot as plt\n",
    "\n",
    "# Deep Learning libraries\n",
    "import torch\n",
    "import torch.nn as nn\n",
    "import torch.optim as optim\n",
    "import torch.nn.functional as F\n",
    "\n",
    "# Additional libraries\n",
    "import seaborn as sns # Plotting heatmap of confusion matrix\n",
    "from sklearn.preprocessing import StandardScaler  # Normalizing datasets\n",
    "from sklearn.decomposition import PCA             # Principal Component Analysis\n",
    "from sklearn.model_selection import train_test_split # Separate train and test sets\n",
    "from sklearn import metrics # For testing the classification model"
   ]
  },
  {
   "cell_type": "markdown",
   "metadata": {},
   "source": [
    "## Pre procesamiento\n",
    "En el archivo `features_positives.txt` encontramos 39 características de distintas proteínas suceptibles a diseño de fármacos (que llamaremos positivas de ahora en adelante) obtenidas mediante métodos de dinámica molecular. En el archivo `features_negatives.txt` encontramos la misma información pero de proteínas no suceptibles a diseño de fármacos (a las que nos referiremos como negativas).\n",
    "\n",
    "Dado que el número de número de muestras negativas es mucho mayor que el número de muestras positivas tendremos que recortar los datos negativos para balancear la base de datos. De otra manera, si entrenaramos a la red neuronal con datos imbalanceados sería muy probable que la red aprenda a clasificar todas las muestras como negativas, pues esto ofrece una probabilidad baja de error y devolvería un accuracy bastante alto sin embargo la red no está aprendiendo a identificar las proteínas positivas que es el principal objetivo.\n",
    "\n",
    "Es importante recalcar que al recortar los datos estamos perdiendo información y más aún nos estamos quedamos con una base de datos pequeña lo que puede afectar el rendimiento de la red. Será necesario hacer las mismas pruebas con un número mayor de muestras para verificar mejores resultados."
   ]
  },
  {
   "cell_type": "code",
   "execution_count": 2,
   "metadata": {},
   "outputs": [],
   "source": [
    "# Cargamos los datos como dataframes de pandas para el pre procesamiento\n",
    "# Recortamos el numero de datos negativos para que sea el mismo que el de positivos\n",
    "positives = pd.read_csv('data/features_positives.txt', sep=\" \", header=[0])\n",
    "negatives = pd.read_csv('data/features_negatives.txt', sep=\" \", header=[0], nrows=1128)\n",
    "\n",
    "del positives['ID']\n",
    "del negatives['ID']\n",
    "\n",
    "features = positives.columns\n",
    "\n",
    "# Añadimos las etiquetas (targets)\n",
    "positives['label'] = 1\n",
    "negatives['label'] = 0"
   ]
  },
  {
   "cell_type": "code",
   "execution_count": 3,
   "metadata": {},
   "outputs": [
    {
     "name": "stdout",
     "output_type": "stream",
     "text": [
      "Numero de caracteristicas:  39\n"
     ]
    },
    {
     "data": {
      "text/html": [
       "<div>\n",
       "<style scoped>\n",
       "    .dataframe tbody tr th:only-of-type {\n",
       "        vertical-align: middle;\n",
       "    }\n",
       "\n",
       "    .dataframe tbody tr th {\n",
       "        vertical-align: top;\n",
       "    }\n",
       "\n",
       "    .dataframe thead th {\n",
       "        text-align: right;\n",
       "    }\n",
       "</style>\n",
       "<table border=\"1\" class=\"dataframe\">\n",
       "  <thead>\n",
       "    <tr style=\"text-align: right;\">\n",
       "      <th></th>\n",
       "      <th>Pocket_Score</th>\n",
       "      <th>drug_score</th>\n",
       "      <th>tSASA</th>\n",
       "      <th>pSASA</th>\n",
       "      <th>aSASA</th>\n",
       "      <th>volume</th>\n",
       "      <th>nb_asph</th>\n",
       "      <th>apol_asph_proportion</th>\n",
       "      <th>mean_asph_radius</th>\n",
       "      <th>as_density</th>\n",
       "      <th>...</th>\n",
       "      <th>asn</th>\n",
       "      <th>pro</th>\n",
       "      <th>gln</th>\n",
       "      <th>arg</th>\n",
       "      <th>ser</th>\n",
       "      <th>thr</th>\n",
       "      <th>val</th>\n",
       "      <th>trp</th>\n",
       "      <th>tyr</th>\n",
       "      <th>label</th>\n",
       "    </tr>\n",
       "  </thead>\n",
       "  <tbody>\n",
       "    <tr>\n",
       "      <th>0</th>\n",
       "      <td>0.4311</td>\n",
       "      <td>0.5965</td>\n",
       "      <td>111.892</td>\n",
       "      <td>47.255</td>\n",
       "      <td>64.638</td>\n",
       "      <td>485.7690</td>\n",
       "      <td>47</td>\n",
       "      <td>0.6596</td>\n",
       "      <td>3.8883</td>\n",
       "      <td>4.4579</td>\n",
       "      <td>...</td>\n",
       "      <td>0</td>\n",
       "      <td>1</td>\n",
       "      <td>1</td>\n",
       "      <td>0</td>\n",
       "      <td>1</td>\n",
       "      <td>1</td>\n",
       "      <td>0</td>\n",
       "      <td>1</td>\n",
       "      <td>3</td>\n",
       "      <td>0</td>\n",
       "    </tr>\n",
       "    <tr>\n",
       "      <th>1</th>\n",
       "      <td>0.3115</td>\n",
       "      <td>0.7994</td>\n",
       "      <td>131.212</td>\n",
       "      <td>55.131</td>\n",
       "      <td>76.081</td>\n",
       "      <td>430.1606</td>\n",
       "      <td>73</td>\n",
       "      <td>0.5479</td>\n",
       "      <td>3.7760</td>\n",
       "      <td>5.0148</td>\n",
       "      <td>...</td>\n",
       "      <td>1</td>\n",
       "      <td>0</td>\n",
       "      <td>0</td>\n",
       "      <td>1</td>\n",
       "      <td>0</td>\n",
       "      <td>1</td>\n",
       "      <td>0</td>\n",
       "      <td>1</td>\n",
       "      <td>0</td>\n",
       "      <td>0</td>\n",
       "    </tr>\n",
       "    <tr>\n",
       "      <th>2</th>\n",
       "      <td>0.0451</td>\n",
       "      <td>0.8357</td>\n",
       "      <td>182.788</td>\n",
       "      <td>51.651</td>\n",
       "      <td>131.136</td>\n",
       "      <td>555.7162</td>\n",
       "      <td>66</td>\n",
       "      <td>0.6061</td>\n",
       "      <td>4.1841</td>\n",
       "      <td>5.0368</td>\n",
       "      <td>...</td>\n",
       "      <td>1</td>\n",
       "      <td>1</td>\n",
       "      <td>3</td>\n",
       "      <td>1</td>\n",
       "      <td>2</td>\n",
       "      <td>0</td>\n",
       "      <td>1</td>\n",
       "      <td>2</td>\n",
       "      <td>1</td>\n",
       "      <td>0</td>\n",
       "    </tr>\n",
       "    <tr>\n",
       "      <th>3</th>\n",
       "      <td>-0.0263</td>\n",
       "      <td>0.0078</td>\n",
       "      <td>67.654</td>\n",
       "      <td>9.687</td>\n",
       "      <td>57.966</td>\n",
       "      <td>173.1944</td>\n",
       "      <td>15</td>\n",
       "      <td>0.4000</td>\n",
       "      <td>3.8962</td>\n",
       "      <td>1.4496</td>\n",
       "      <td>...</td>\n",
       "      <td>0</td>\n",
       "      <td>0</td>\n",
       "      <td>0</td>\n",
       "      <td>0</td>\n",
       "      <td>1</td>\n",
       "      <td>1</td>\n",
       "      <td>0</td>\n",
       "      <td>0</td>\n",
       "      <td>0</td>\n",
       "      <td>0</td>\n",
       "    </tr>\n",
       "    <tr>\n",
       "      <th>4</th>\n",
       "      <td>0.1259</td>\n",
       "      <td>0.3645</td>\n",
       "      <td>167.110</td>\n",
       "      <td>65.669</td>\n",
       "      <td>101.441</td>\n",
       "      <td>586.5621</td>\n",
       "      <td>50</td>\n",
       "      <td>0.6000</td>\n",
       "      <td>4.0669</td>\n",
       "      <td>4.5934</td>\n",
       "      <td>...</td>\n",
       "      <td>0</td>\n",
       "      <td>1</td>\n",
       "      <td>0</td>\n",
       "      <td>0</td>\n",
       "      <td>0</td>\n",
       "      <td>2</td>\n",
       "      <td>2</td>\n",
       "      <td>1</td>\n",
       "      <td>0</td>\n",
       "      <td>0</td>\n",
       "    </tr>\n",
       "  </tbody>\n",
       "</table>\n",
       "<p>5 rows × 40 columns</p>\n",
       "</div>"
      ],
      "text/plain": [
       "   Pocket_Score  drug_score    tSASA   pSASA    aSASA    volume  nb_asph  \\\n",
       "0        0.4311      0.5965  111.892  47.255   64.638  485.7690       47   \n",
       "1        0.3115      0.7994  131.212  55.131   76.081  430.1606       73   \n",
       "2        0.0451      0.8357  182.788  51.651  131.136  555.7162       66   \n",
       "3       -0.0263      0.0078   67.654   9.687   57.966  173.1944       15   \n",
       "4        0.1259      0.3645  167.110  65.669  101.441  586.5621       50   \n",
       "\n",
       "   apol_asph_proportion  mean_asph_radius  as_density  ...  asn  pro  gln  \\\n",
       "0                0.6596            3.8883      4.4579  ...    0    1    1   \n",
       "1                0.5479            3.7760      5.0148  ...    1    0    0   \n",
       "2                0.6061            4.1841      5.0368  ...    1    1    3   \n",
       "3                0.4000            3.8962      1.4496  ...    0    0    0   \n",
       "4                0.6000            4.0669      4.5934  ...    0    1    0   \n",
       "\n",
       "   arg  ser  thr  val  trp  tyr  label  \n",
       "0    0    1    1    0    1    3      0  \n",
       "1    1    0    1    0    1    0      0  \n",
       "2    1    2    0    1    2    1      0  \n",
       "3    0    1    1    0    0    0      0  \n",
       "4    0    0    2    2    1    0      0  \n",
       "\n",
       "[5 rows x 40 columns]"
      ]
     },
     "execution_count": 3,
     "metadata": {},
     "output_type": "execute_result"
    }
   ],
   "source": [
    "# Unimos las muestras positivas y negativas\n",
    "df = pd.merge(positives, negatives, how='outer')\n",
    "\n",
    "# Revolvemos los datos y guadamos las etiquedas en otra variable\n",
    "df = df.sample(frac=1).reset_index(drop=True)\n",
    "labels = df['label']\n",
    "\n",
    "print(\"Numero de caracteristicas: \", features.shape[0])\n",
    "\n",
    "df.head()"
   ]
  },
  {
   "cell_type": "code",
   "execution_count": 4,
   "metadata": {},
   "outputs": [
    {
     "name": "stdout",
     "output_type": "stream",
     "text": [
      "<class 'pandas.core.frame.DataFrame'>\n",
      "RangeIndex: 2256 entries, 0 to 2255\n",
      "Data columns (total 40 columns):\n",
      " #   Column                Non-Null Count  Dtype  \n",
      "---  ------                --------------  -----  \n",
      " 0   Pocket_Score          2256 non-null   float64\n",
      " 1   drug_score            2256 non-null   float64\n",
      " 2   tSASA                 2256 non-null   float64\n",
      " 3   pSASA                 2256 non-null   float64\n",
      " 4   aSASA                 2256 non-null   float64\n",
      " 5   volume                2256 non-null   float64\n",
      " 6   nb_asph               2256 non-null   int64  \n",
      " 7   apol_asph_proportion  2256 non-null   float64\n",
      " 8   mean_asph_radius      2256 non-null   float64\n",
      " 9   as_density            2256 non-null   float64\n",
      " 10  mean_asph_solv_acc    2256 non-null   float64\n",
      " 11  mean_loc_hyd_dens     2256 non-null   float64\n",
      " 12  flex                  2256 non-null   float64\n",
      " 13  hydrophobicity_score  2256 non-null   float64\n",
      " 14  volume_score          2256 non-null   float64\n",
      " 15  charge_score          2256 non-null   int64  \n",
      " 16  polarity_score        2256 non-null   int64  \n",
      " 17  n_abpa                2256 non-null   int64  \n",
      " 18  COM_minus_asphr_max   2256 non-null   float64\n",
      " 19  ala                   2256 non-null   int64  \n",
      " 20  cys                   2256 non-null   int64  \n",
      " 21  asp                   2256 non-null   int64  \n",
      " 22  glu                   2256 non-null   int64  \n",
      " 23  phe                   2256 non-null   int64  \n",
      " 24  gly                   2256 non-null   int64  \n",
      " 25  his                   2256 non-null   int64  \n",
      " 26  ile                   2256 non-null   int64  \n",
      " 27  lys                   2256 non-null   int64  \n",
      " 28  leu                   2256 non-null   int64  \n",
      " 29  met                   2256 non-null   int64  \n",
      " 30  asn                   2256 non-null   int64  \n",
      " 31  pro                   2256 non-null   int64  \n",
      " 32  gln                   2256 non-null   int64  \n",
      " 33  arg                   2256 non-null   int64  \n",
      " 34  ser                   2256 non-null   int64  \n",
      " 35  thr                   2256 non-null   int64  \n",
      " 36  val                   2256 non-null   int64  \n",
      " 37  trp                   2256 non-null   int64  \n",
      " 38  tyr                   2256 non-null   int64  \n",
      " 39  label                 2256 non-null   int64  \n",
      "dtypes: float64(15), int64(25)\n",
      "memory usage: 705.1 KB\n"
     ]
    }
   ],
   "source": [
    "# Para mas informacion sobre las caracteristicas\n",
    "df.info()"
   ]
  },
  {
   "cell_type": "markdown",
   "metadata": {},
   "source": [
    "### Normalización"
   ]
  },
  {
   "cell_type": "markdown",
   "metadata": {},
   "source": [
    "Procedemos a normalizar los datos extrayendo la media y dividiendo entre la desviación estándar"
   ]
  },
  {
   "cell_type": "code",
   "execution_count": 5,
   "metadata": {},
   "outputs": [
    {
     "name": "stdout",
     "output_type": "stream",
     "text": [
      "Media:  -7.429752192436035e-17\n",
      "Varianza:  0.9999999999999999\n"
     ]
    }
   ],
   "source": [
    "# Seleccionamos unicamente los datos sin etiquetas\n",
    "norm_data = df.loc[:, features]\n",
    "\n",
    "# Normalizamos\n",
    "norm_data = StandardScaler().fit_transform(norm_data)\n",
    "\n",
    "#print(norm_data)\n",
    "print('Media: ', np.mean(norm_data))\n",
    "print('Varianza: ', np.std(norm_data))"
   ]
  },
  {
   "cell_type": "markdown",
   "metadata": {},
   "source": [
    "Regresamos los datos normalizados a un dataframe para continuar con el pre procesamiento"
   ]
  },
  {
   "cell_type": "code",
   "execution_count": 6,
   "metadata": {},
   "outputs": [
    {
     "data": {
      "text/html": [
       "<div>\n",
       "<style scoped>\n",
       "    .dataframe tbody tr th:only-of-type {\n",
       "        vertical-align: middle;\n",
       "    }\n",
       "\n",
       "    .dataframe tbody tr th {\n",
       "        vertical-align: top;\n",
       "    }\n",
       "\n",
       "    .dataframe thead th {\n",
       "        text-align: right;\n",
       "    }\n",
       "</style>\n",
       "<table border=\"1\" class=\"dataframe\">\n",
       "  <thead>\n",
       "    <tr style=\"text-align: right;\">\n",
       "      <th></th>\n",
       "      <th>Pocket_Score</th>\n",
       "      <th>drug_score</th>\n",
       "      <th>tSASA</th>\n",
       "      <th>pSASA</th>\n",
       "      <th>aSASA</th>\n",
       "      <th>volume</th>\n",
       "      <th>nb_asph</th>\n",
       "      <th>apol_asph_proportion</th>\n",
       "      <th>mean_asph_radius</th>\n",
       "      <th>as_density</th>\n",
       "      <th>...</th>\n",
       "      <th>met</th>\n",
       "      <th>asn</th>\n",
       "      <th>pro</th>\n",
       "      <th>gln</th>\n",
       "      <th>arg</th>\n",
       "      <th>ser</th>\n",
       "      <th>thr</th>\n",
       "      <th>val</th>\n",
       "      <th>trp</th>\n",
       "      <th>tyr</th>\n",
       "    </tr>\n",
       "  </thead>\n",
       "  <tbody>\n",
       "    <tr>\n",
       "      <th>0</th>\n",
       "      <td>1.470478</td>\n",
       "      <td>0.305448</td>\n",
       "      <td>-0.815238</td>\n",
       "      <td>-0.568176</td>\n",
       "      <td>-0.872761</td>\n",
       "      <td>-0.611754</td>\n",
       "      <td>-0.762722</td>\n",
       "      <td>0.692753</td>\n",
       "      <td>-0.650702</td>\n",
       "      <td>-0.583542</td>\n",
       "      <td>...</td>\n",
       "      <td>-0.156654</td>\n",
       "      <td>-0.822046</td>\n",
       "      <td>0.132769</td>\n",
       "      <td>-0.300265</td>\n",
       "      <td>-0.612063</td>\n",
       "      <td>-0.121392</td>\n",
       "      <td>0.024610</td>\n",
       "      <td>-0.687238</td>\n",
       "      <td>-0.213894</td>\n",
       "      <td>1.101102</td>\n",
       "    </tr>\n",
       "    <tr>\n",
       "      <th>1</th>\n",
       "      <td>0.812191</td>\n",
       "      <td>0.870192</td>\n",
       "      <td>-0.666622</td>\n",
       "      <td>-0.439499</td>\n",
       "      <td>-0.732500</td>\n",
       "      <td>-0.725921</td>\n",
       "      <td>-0.337559</td>\n",
       "      <td>0.130500</td>\n",
       "      <td>-1.709005</td>\n",
       "      <td>-0.339371</td>\n",
       "      <td>...</td>\n",
       "      <td>0.788298</td>\n",
       "      <td>0.073865</td>\n",
       "      <td>-0.830342</td>\n",
       "      <td>-1.019373</td>\n",
       "      <td>0.434008</td>\n",
       "      <td>-0.917501</td>\n",
       "      <td>0.024610</td>\n",
       "      <td>-0.687238</td>\n",
       "      <td>-0.213894</td>\n",
       "      <td>-1.119476</td>\n",
       "    </tr>\n",
       "    <tr>\n",
       "      <th>2</th>\n",
       "      <td>-0.654094</td>\n",
       "      <td>0.971228</td>\n",
       "      <td>-0.269882</td>\n",
       "      <td>-0.496355</td>\n",
       "      <td>-0.057670</td>\n",
       "      <td>-0.468148</td>\n",
       "      <td>-0.452026</td>\n",
       "      <td>0.423455</td>\n",
       "      <td>2.136884</td>\n",
       "      <td>-0.329725</td>\n",
       "      <td>...</td>\n",
       "      <td>0.315822</td>\n",
       "      <td>0.073865</td>\n",
       "      <td>0.132769</td>\n",
       "      <td>1.137949</td>\n",
       "      <td>0.434008</td>\n",
       "      <td>0.674716</td>\n",
       "      <td>-0.816602</td>\n",
       "      <td>0.456975</td>\n",
       "      <td>0.537734</td>\n",
       "      <td>-0.379283</td>\n",
       "    </tr>\n",
       "    <tr>\n",
       "      <th>3</th>\n",
       "      <td>-1.047085</td>\n",
       "      <td>-1.333118</td>\n",
       "      <td>-1.155532</td>\n",
       "      <td>-1.181959</td>\n",
       "      <td>-0.954542</td>\n",
       "      <td>-1.253486</td>\n",
       "      <td>-1.285999</td>\n",
       "      <td>-0.613970</td>\n",
       "      <td>-0.576254</td>\n",
       "      <td>-1.902521</td>\n",
       "      <td>...</td>\n",
       "      <td>-0.156654</td>\n",
       "      <td>-0.822046</td>\n",
       "      <td>-0.830342</td>\n",
       "      <td>-1.019373</td>\n",
       "      <td>-0.612063</td>\n",
       "      <td>-0.121392</td>\n",
       "      <td>0.024610</td>\n",
       "      <td>-0.687238</td>\n",
       "      <td>-0.965523</td>\n",
       "      <td>-1.119476</td>\n",
       "    </tr>\n",
       "    <tr>\n",
       "      <th>4</th>\n",
       "      <td>-0.209365</td>\n",
       "      <td>-0.340292</td>\n",
       "      <td>-0.390483</td>\n",
       "      <td>-0.267330</td>\n",
       "      <td>-0.421653</td>\n",
       "      <td>-0.404820</td>\n",
       "      <td>-0.713665</td>\n",
       "      <td>0.392750</td>\n",
       "      <td>1.032404</td>\n",
       "      <td>-0.524132</td>\n",
       "      <td>...</td>\n",
       "      <td>-0.629131</td>\n",
       "      <td>-0.822046</td>\n",
       "      <td>0.132769</td>\n",
       "      <td>-1.019373</td>\n",
       "      <td>-0.612063</td>\n",
       "      <td>-0.917501</td>\n",
       "      <td>0.865822</td>\n",
       "      <td>1.601188</td>\n",
       "      <td>-0.213894</td>\n",
       "      <td>-1.119476</td>\n",
       "    </tr>\n",
       "  </tbody>\n",
       "</table>\n",
       "<p>5 rows × 39 columns</p>\n",
       "</div>"
      ],
      "text/plain": [
       "   Pocket_Score  drug_score     tSASA     pSASA     aSASA    volume   nb_asph  \\\n",
       "0      1.470478    0.305448 -0.815238 -0.568176 -0.872761 -0.611754 -0.762722   \n",
       "1      0.812191    0.870192 -0.666622 -0.439499 -0.732500 -0.725921 -0.337559   \n",
       "2     -0.654094    0.971228 -0.269882 -0.496355 -0.057670 -0.468148 -0.452026   \n",
       "3     -1.047085   -1.333118 -1.155532 -1.181959 -0.954542 -1.253486 -1.285999   \n",
       "4     -0.209365   -0.340292 -0.390483 -0.267330 -0.421653 -0.404820 -0.713665   \n",
       "\n",
       "   apol_asph_proportion  mean_asph_radius  as_density  ...       met  \\\n",
       "0              0.692753         -0.650702   -0.583542  ... -0.156654   \n",
       "1              0.130500         -1.709005   -0.339371  ...  0.788298   \n",
       "2              0.423455          2.136884   -0.329725  ...  0.315822   \n",
       "3             -0.613970         -0.576254   -1.902521  ... -0.156654   \n",
       "4              0.392750          1.032404   -0.524132  ... -0.629131   \n",
       "\n",
       "        asn       pro       gln       arg       ser       thr       val  \\\n",
       "0 -0.822046  0.132769 -0.300265 -0.612063 -0.121392  0.024610 -0.687238   \n",
       "1  0.073865 -0.830342 -1.019373  0.434008 -0.917501  0.024610 -0.687238   \n",
       "2  0.073865  0.132769  1.137949  0.434008  0.674716 -0.816602  0.456975   \n",
       "3 -0.822046 -0.830342 -1.019373 -0.612063 -0.121392  0.024610 -0.687238   \n",
       "4 -0.822046  0.132769 -1.019373 -0.612063 -0.917501  0.865822  1.601188   \n",
       "\n",
       "        trp       tyr  \n",
       "0 -0.213894  1.101102  \n",
       "1 -0.213894 -1.119476  \n",
       "2  0.537734 -0.379283  \n",
       "3 -0.965523 -1.119476  \n",
       "4 -0.213894 -1.119476  \n",
       "\n",
       "[5 rows x 39 columns]"
      ]
     },
     "execution_count": 6,
     "metadata": {},
     "output_type": "execute_result"
    }
   ],
   "source": [
    "norm_df = pd.DataFrame(norm_data, columns=features)\n",
    "norm_df.head()"
   ]
  },
  {
   "cell_type": "markdown",
   "metadata": {},
   "source": [
    "### Correlación\n",
    "Visualizamos la matriz de correlación de las características de nuestro dataframe con el objetivo de identificar si hay redundancia en la información"
   ]
  },
  {
   "cell_type": "code",
   "execution_count": 7,
   "metadata": {},
   "outputs": [
    {
     "data": {
      "text/plain": [
       "<matplotlib.colorbar.Colorbar at 0x7face097faf0>"
      ]
     },
     "execution_count": 7,
     "metadata": {},
     "output_type": "execute_result"
    },
    {
     "data": {
      "image/png": "[encoded data removed]",
      "text/plain": [
       "<Figure size 432x288 with 2 Axes>"
      ]
     },
     "metadata": {
      "needs_background": "light"
     },
     "output_type": "display_data"
    }
   ],
   "source": [
    "# Calculamos la matriz de correlacion\n",
    "correlation = norm_df.corr()\n",
    "\n",
    "# Realizamos un heatmap de la matriz de correlacion\n",
    "figure, axes = plt.subplots()\n",
    "c = axes.imshow(correlation, cmap='jet', interpolation='bilinear')\n",
    "axes.set_title('Matriz de correlacion')\n",
    "figure.colorbar(c)\n",
    "#plt.savefig(\"img/correlation_matrix.jpg\")"
   ]
  },
  {
   "cell_type": "markdown",
   "metadata": {},
   "source": [
    "Imprimimos aquellos features que tienen una correlación alta (arriba de 0.9)"
   ]
  },
  {
   "cell_type": "code",
   "execution_count": 8,
   "metadata": {},
   "outputs": [
    {
     "name": "stdout",
     "output_type": "stream",
     "text": [
      "aSASA tSASA\n",
      "volume tSASA\n",
      "volume aSASA\n",
      "nb_asph tSASA\n",
      "nb_asph volume\n",
      "as_density tSASA\n",
      "as_density volume\n",
      "COM_minus_asphr_max volume\n",
      "COM_minus_asphr_max as_density\n"
     ]
    }
   ],
   "source": [
    "for n in range(features.size):\n",
    "    for m in range(n):\n",
    "        if correlation.iloc[n, m] >= 0.9:\n",
    "            print(features[n], features[m])"
   ]
  },
  {
   "cell_type": "markdown",
   "metadata": {},
   "source": [
    "Podemos observar que en efecto exite cierto número de features que guardan una relación estrecha entre sí, esto es, guardan la misma cantidad de información y por lo tanto no son indispensables. Para reducir la dimensionalidad, eliminando redundancias y optimizando el entrenamiento, hemos optado por usar el método de Principal Component Analysis como se muestra a continuación."
   ]
  },
  {
   "cell_type": "markdown",
   "metadata": {},
   "source": [
    "### Reducción de la dimensión vía PCA\n",
    "Ya que hemos notado que exite redundancia en la información será pertinente que usaremos Principal Component Analysis (PCA) para disminuir la dimensión\n",
    "\n",
    "Fuente  \n",
    "https://www.datacamp.com/community/tutorials/principal-component-analysis-in-python"
   ]
  },
  {
   "cell_type": "code",
   "execution_count": 9,
   "metadata": {},
   "outputs": [
    {
     "data": {
      "text/html": [
       "<div>\n",
       "<style scoped>\n",
       "    .dataframe tbody tr th:only-of-type {\n",
       "        vertical-align: middle;\n",
       "    }\n",
       "\n",
       "    .dataframe tbody tr th {\n",
       "        vertical-align: top;\n",
       "    }\n",
       "\n",
       "    .dataframe thead th {\n",
       "        text-align: right;\n",
       "    }\n",
       "</style>\n",
       "<table border=\"1\" class=\"dataframe\">\n",
       "  <thead>\n",
       "    <tr style=\"text-align: right;\">\n",
       "      <th></th>\n",
       "      <th>pc 1</th>\n",
       "      <th>pc 2</th>\n",
       "      <th>pc 3</th>\n",
       "      <th>pc 4</th>\n",
       "      <th>pc 5</th>\n",
       "      <th>pc 6</th>\n",
       "      <th>pc 7</th>\n",
       "      <th>pc 8</th>\n",
       "      <th>pc 9</th>\n",
       "      <th>pc 10</th>\n",
       "      <th>pc 11</th>\n",
       "      <th>pc 12</th>\n",
       "      <th>pc 13</th>\n",
       "      <th>pc 14</th>\n",
       "      <th>pc 15</th>\n",
       "      <th>pc 16</th>\n",
       "      <th>pc 17</th>\n",
       "      <th>pc 18</th>\n",
       "      <th>pc 19</th>\n",
       "      <th>pc 20</th>\n",
       "    </tr>\n",
       "  </thead>\n",
       "  <tbody>\n",
       "    <tr>\n",
       "      <th>0</th>\n",
       "      <td>-2.206285</td>\n",
       "      <td>0.688700</td>\n",
       "      <td>-0.560968</td>\n",
       "      <td>-2.397359</td>\n",
       "      <td>-0.458798</td>\n",
       "      <td>-0.445394</td>\n",
       "      <td>1.002086</td>\n",
       "      <td>1.412269</td>\n",
       "      <td>-1.057081</td>\n",
       "      <td>-0.055358</td>\n",
       "      <td>-1.102080</td>\n",
       "      <td>0.709880</td>\n",
       "      <td>-0.591666</td>\n",
       "      <td>0.278477</td>\n",
       "      <td>0.360324</td>\n",
       "      <td>0.036680</td>\n",
       "      <td>0.686853</td>\n",
       "      <td>-0.025479</td>\n",
       "      <td>-0.193032</td>\n",
       "      <td>0.082530</td>\n",
       "    </tr>\n",
       "    <tr>\n",
       "      <th>1</th>\n",
       "      <td>-1.292663</td>\n",
       "      <td>0.179560</td>\n",
       "      <td>0.186536</td>\n",
       "      <td>-1.039083</td>\n",
       "      <td>-2.777708</td>\n",
       "      <td>1.841242</td>\n",
       "      <td>0.559203</td>\n",
       "      <td>-0.186097</td>\n",
       "      <td>-0.307815</td>\n",
       "      <td>-0.001811</td>\n",
       "      <td>0.375598</td>\n",
       "      <td>-0.314831</td>\n",
       "      <td>2.290798</td>\n",
       "      <td>-1.281711</td>\n",
       "      <td>-0.370092</td>\n",
       "      <td>-0.642621</td>\n",
       "      <td>-1.201599</td>\n",
       "      <td>-0.636954</td>\n",
       "      <td>0.038152</td>\n",
       "      <td>0.682237</td>\n",
       "    </tr>\n",
       "    <tr>\n",
       "      <th>2</th>\n",
       "      <td>-0.874532</td>\n",
       "      <td>1.534501</td>\n",
       "      <td>0.416738</td>\n",
       "      <td>2.488008</td>\n",
       "      <td>-0.006750</td>\n",
       "      <td>-0.695969</td>\n",
       "      <td>-0.378499</td>\n",
       "      <td>-0.784919</td>\n",
       "      <td>-0.070170</td>\n",
       "      <td>0.928329</td>\n",
       "      <td>0.860334</td>\n",
       "      <td>0.550238</td>\n",
       "      <td>0.276379</td>\n",
       "      <td>0.035463</td>\n",
       "      <td>1.513277</td>\n",
       "      <td>-0.241528</td>\n",
       "      <td>-0.155820</td>\n",
       "      <td>0.087147</td>\n",
       "      <td>-0.769542</td>\n",
       "      <td>-0.747889</td>\n",
       "    </tr>\n",
       "    <tr>\n",
       "      <th>3</th>\n",
       "      <td>-5.267327</td>\n",
       "      <td>-1.097933</td>\n",
       "      <td>-0.650356</td>\n",
       "      <td>0.715475</td>\n",
       "      <td>-1.113221</td>\n",
       "      <td>-2.008872</td>\n",
       "      <td>0.954428</td>\n",
       "      <td>0.844654</td>\n",
       "      <td>-0.431907</td>\n",
       "      <td>-0.242861</td>\n",
       "      <td>-0.272014</td>\n",
       "      <td>-1.028687</td>\n",
       "      <td>0.118507</td>\n",
       "      <td>-0.509827</td>\n",
       "      <td>-0.611417</td>\n",
       "      <td>-0.626812</td>\n",
       "      <td>0.204047</td>\n",
       "      <td>-0.156926</td>\n",
       "      <td>0.419322</td>\n",
       "      <td>-0.427383</td>\n",
       "    </tr>\n",
       "    <tr>\n",
       "      <th>4</th>\n",
       "      <td>-1.974030</td>\n",
       "      <td>0.398814</td>\n",
       "      <td>0.497221</td>\n",
       "      <td>0.883716</td>\n",
       "      <td>0.805015</td>\n",
       "      <td>-2.199575</td>\n",
       "      <td>2.303392</td>\n",
       "      <td>-0.772891</td>\n",
       "      <td>0.787298</td>\n",
       "      <td>0.089087</td>\n",
       "      <td>-0.276762</td>\n",
       "      <td>-0.613755</td>\n",
       "      <td>1.329577</td>\n",
       "      <td>0.179324</td>\n",
       "      <td>-1.556843</td>\n",
       "      <td>-1.111410</td>\n",
       "      <td>-1.216084</td>\n",
       "      <td>0.174477</td>\n",
       "      <td>0.183530</td>\n",
       "      <td>0.526576</td>\n",
       "    </tr>\n",
       "  </tbody>\n",
       "</table>\n",
       "</div>"
      ],
      "text/plain": [
       "       pc 1      pc 2      pc 3      pc 4      pc 5      pc 6      pc 7  \\\n",
       "0 -2.206285  0.688700 -0.560968 -2.397359 -0.458798 -0.445394  1.002086   \n",
       "1 -1.292663  0.179560  0.186536 -1.039083 -2.777708  1.841242  0.559203   \n",
       "2 -0.874532  1.534501  0.416738  2.488008 -0.006750 -0.695969 -0.378499   \n",
       "3 -5.267327 -1.097933 -0.650356  0.715475 -1.113221 -2.008872  0.954428   \n",
       "4 -1.974030  0.398814  0.497221  0.883716  0.805015 -2.199575  2.303392   \n",
       "\n",
       "       pc 8      pc 9     pc 10     pc 11     pc 12     pc 13     pc 14  \\\n",
       "0  1.412269 -1.057081 -0.055358 -1.102080  0.709880 -0.591666  0.278477   \n",
       "1 -0.186097 -0.307815 -0.001811  0.375598 -0.314831  2.290798 -1.281711   \n",
       "2 -0.784919 -0.070170  0.928329  0.860334  0.550238  0.276379  0.035463   \n",
       "3  0.844654 -0.431907 -0.242861 -0.272014 -1.028687  0.118507 -0.509827   \n",
       "4 -0.772891  0.787298  0.089087 -0.276762 -0.613755  1.329577  0.179324   \n",
       "\n",
       "      pc 15     pc 16     pc 17     pc 18     pc 19     pc 20  \n",
       "0  0.360324  0.036680  0.686853 -0.025479 -0.193032  0.082530  \n",
       "1 -0.370092 -0.642621 -1.201599 -0.636954  0.038152  0.682237  \n",
       "2  1.513277 -0.241528 -0.155820  0.087147 -0.769542 -0.747889  \n",
       "3 -0.611417 -0.626812  0.204047 -0.156926  0.419322 -0.427383  \n",
       "4 -1.556843 -1.111410 -1.216084  0.174477  0.183530  0.526576  "
      ]
     },
     "execution_count": 9,
     "metadata": {},
     "output_type": "execute_result"
    }
   ],
   "source": [
    "# Definimos el modelo de manera que conserve el 0.9 de la variacion total de la informacion\n",
    "pca = PCA(0.9)\n",
    "\n",
    "# Ajustamos los datos normalizados al modelo\n",
    "principalComponents = pca.fit_transform(norm_data)\n",
    "\n",
    "# Devolvemos los componentes principales a un data frame\n",
    "column_names = ['pc %d' % i for i in range(1, pca.n_components_+1)]\n",
    "pca_df = pd.DataFrame(principalComponents, columns=column_names)\n",
    "pca_df.head()"
   ]
  },
  {
   "cell_type": "code",
   "execution_count": 10,
   "metadata": {},
   "outputs": [
    {
     "name": "stdout",
     "output_type": "stream",
     "text": [
      "Numero de componentes:  20\n",
      "Varinza por componente principal: \n",
      "[0.29893057 0.11732232 0.06316021 0.04519905 0.04045637 0.03467608\n",
      " 0.03040925 0.02772032 0.02695732 0.02462544 0.02283878 0.02155009\n",
      " 0.02144623 0.02077524 0.02021135 0.01867273 0.01827413 0.01706756\n",
      " 0.01569721 0.0154325 ]\n",
      "Varianza total:  0.9014227562858543\n"
     ]
    }
   ],
   "source": [
    "num_components = pca.n_components_\n",
    "\n",
    "print('Numero de componentes: ', num_components)\n",
    "print('Varinza por componente principal: ', pca.explained_variance_ratio_, sep='\\n')\n",
    "print('Varianza total: ', pca.explained_variance_ratio_.sum())"
   ]
  },
  {
   "cell_type": "markdown",
   "metadata": {},
   "source": [
    "Hemos reducido la dimensión de 39 características a 21 componentes principales, con lo que hemos mantenido el 91.12% de la información total.\n",
    "\n",
    "Finalmente, regresamos las etiquetas al dataframe y lo descargamos como un nuevo archivo .txt que contendrá los datos que aplicaremos a la red neuronal"
   ]
  },
  {
   "cell_type": "code",
   "execution_count": 11,
   "metadata": {},
   "outputs": [],
   "source": [
    "proc_df = pca_df\n",
    "proc_df['label'] = labels\n",
    "proc_df.to_csv('data/pocket_features_summary.txt', sep=' ', index=False) "
   ]
  },
  {
   "cell_type": "markdown",
   "metadata": {},
   "source": [
    "### Conjuntos de entrenamiento y prueba"
   ]
  },
  {
   "cell_type": "code",
   "execution_count": 12,
   "metadata": {},
   "outputs": [],
   "source": [
    "# Cargamos el data frame que usaremos\n",
    "data = pd.read_csv('data/pocket_features_summary.txt', sep=\" \", header=[0])\n",
    "\n",
    "# Separamos los datos en un conjunto de entrenamiento con un 80% de los datos y conjunto de prueba con el resto\n",
    "X = data.iloc[:, :-1]\n",
    "y = data.iloc[:, -1]\n",
    "\n",
    "X_train, X_test, y_train, y_test = train_test_split(X, y, test_size=0.2, random_state=42)\n",
    "\n",
    "# Guardamos nuevamente en archivos .csv para despues transformarlos en data loaders de pytorch\n",
    "X_train.to_csv('train_features.csv', index=False)\n",
    "y_train.to_csv('train_labels.csv', index=False)\n",
    "\n",
    "X_test.to_csv('test_features.csv', index=False)\n",
    "y_test.to_csv('test_labels.csv', index=False)"
   ]
  },
  {
   "cell_type": "markdown",
   "metadata": {},
   "source": [
    "Definimos una clase auxiliar que nos ayudará a pasar nuestros datos a dataloaders de pytorch para simplificar el trabajo.\n",
    "\n",
    "Fuente  \n",
    "https://rasbt.github.io/coral_pytorch/tutorials/poker/"
   ]
  },
  {
   "cell_type": "code",
   "execution_count": 13,
   "metadata": {},
   "outputs": [],
   "source": [
    "from torch.utils.data import Dataset\n",
    "\n",
    "class MyDataset(Dataset):\n",
    "\n",
    "    def __init__(self, csv_path_features, csv_path_labels, dtype=np.float32):\n",
    "\n",
    "        self.features = pd.read_csv(csv_path_features).values.astype(np.float32)\n",
    "        self.labels = pd.read_csv(csv_path_labels).values.flatten()\n",
    "\n",
    "    def __getitem__(self, index):\n",
    "        inputs = self.features[index]\n",
    "        label = self.labels[index]\n",
    "        return inputs, label\n",
    "\n",
    "    def __len__(self):\n",
    "        return self.labels.shape[0]"
   ]
  },
  {
   "cell_type": "code",
   "execution_count": 14,
   "metadata": {},
   "outputs": [],
   "source": [
    "from torch.utils.data import DataLoader\n",
    "\n",
    "# Aplicaremos los datos pre procesados en minibatches de tamaño 200\n",
    "batch_size = 200\n",
    "\n",
    "train_dataset = MyDataset('train_features.csv', 'train_labels.csv')\n",
    "test_dataset = MyDataset('test_features.csv', 'test_labels.csv')\n",
    "\n",
    "train_loader = DataLoader(dataset=train_dataset,\n",
    "                          batch_size=batch_size,\n",
    "                          shuffle=True,\n",
    "                          num_workers=0) # number processes/CPUs to use\n",
    "\n",
    "test_loader = DataLoader(dataset=test_dataset,\n",
    "                         batch_size=batch_size,\n",
    "                         shuffle=True,\n",
    "                         num_workers=0) # number processes/CPUs to use"
   ]
  },
  {
   "cell_type": "code",
   "execution_count": 15,
   "metadata": {},
   "outputs": [
    {
     "name": "stdout",
     "output_type": "stream",
     "text": [
      "[tensor([[-1.7502,  2.0184,  0.0846,  ..., -0.3880, -0.4588,  0.5863],\n",
      "        [-2.1496,  4.8077, -0.4278,  ..., -0.4199, -0.0543, -0.7474],\n",
      "        [-4.5306, -2.0059, -0.6971,  ...,  0.0102,  0.7541, -0.6870],\n",
      "        ...,\n",
      "        [ 3.6546, -2.3462,  1.7380,  ...,  0.5961, -0.4094,  1.3917],\n",
      "        [ 0.5072,  2.3160,  1.1170,  ..., -1.1058, -0.9168,  0.5145],\n",
      "        [-0.3650, -1.2034,  1.4982,  ...,  0.3607,  0.7657, -1.1030]]), tensor([1, 1, 1, 0, 0, 1, 0, 1, 0, 1, 1, 0, 1, 1, 1, 1, 0, 0, 1, 1, 1, 1, 0, 1,\n",
      "        0, 1, 1, 1, 1, 1, 1, 1, 0, 0, 0, 1, 1, 0, 1, 0, 0, 1, 1, 1, 1, 0, 1, 0,\n",
      "        1, 0, 0, 1, 1, 0, 0, 1, 1, 1, 0, 0, 0, 0, 0, 0, 0, 1, 0, 1, 0, 0, 0, 1,\n",
      "        1, 1, 1, 1, 1, 1, 1, 0, 1, 1, 0, 0, 0, 0, 0, 0, 1, 0, 0, 1, 0, 1, 0, 1,\n",
      "        1, 0, 0, 1, 1, 1, 1, 1, 0, 1, 0, 0, 1, 0, 1, 1, 1, 1, 0, 0, 0, 1, 1, 0,\n",
      "        0, 0, 0, 0, 1, 1, 0, 1, 1, 0, 0, 0, 1, 0, 1, 1, 1, 1, 1, 0, 0, 0, 1, 1,\n",
      "        1, 0, 0, 1, 0, 1, 0, 1, 1, 0, 0, 1, 0, 1, 0, 0, 1, 1, 1, 0, 1, 0, 0, 0,\n",
      "        0, 0, 0, 1, 1, 0, 1, 0, 0, 0, 0, 1, 1, 1, 1, 0, 0, 0, 1, 0, 0, 1, 0, 1,\n",
      "        1, 0, 1, 0, 0, 0, 1, 0])]\n"
     ]
    }
   ],
   "source": [
    "# Exploration of data before training\n",
    "for data in train_loader:\n",
    "    print(data)\n",
    "    break"
   ]
  },
  {
   "cell_type": "markdown",
   "metadata": {},
   "source": [
    "## Arquitectura de la Red\n",
    "\n",
    "Definimos una red de aprendizaje profundo conformada por:\n",
    "\n",
    "1. capa de entrada con tamaño igual a la dimensión obtenida después de aplicar PCA\n",
    "2. capas ocultas completamente conectadas mediante ReLU una de tamaño 13 y otra de tamaño 8 (2/3 de la capa anterior)\n",
    "3. capa de salida con dos nodos seguida de la función log softmax\n",
    "\n",
    "Para el entrenamiento tomaremos un total de 10000 iteraciones, usaremos entropía cruzada como función de pérdida y como optimizador usaremos el algoritmo de Adam con $\\alpha = 0.001$. Después graficaremos la función de pérdida respecto al conjunto de entrenamiento. Finalmente, con el conjunto de prueba evaluaremos el rendimiento de nuestra red."
   ]
  },
  {
   "cell_type": "code",
   "execution_count": 16,
   "metadata": {
    "id": "ZY6eoh423Uy0"
   },
   "outputs": [],
   "source": [
    "class DPC_NET(nn.Module):\n",
    "    def __init__(self):\n",
    "        '''\n",
    "        Construcción de la arquitectura de la Red\n",
    "        '''\n",
    "        super(DPC_NET, self).__init__()\n",
    "        self.fc1 = nn.Linear(num_components, 13)\n",
    "        self.fc2 = nn.Linear(13, 8)\n",
    "        self.fc3 = nn.Linear(8, 2)\n",
    "        \n",
    "    \n",
    "    def forward(self, x):\n",
    "        '''\n",
    "        Definicion del orden con el que se realizará la propagación hacia adelante\n",
    "        de la red.\n",
    "        '''\n",
    "        x = F.relu(self.fc1(x))\n",
    "        x = F.relu(self.fc2(x))\n",
    "        x = self.fc3(x)\n",
    "        \n",
    "        return F.log_softmax(x, dim=1)"
   ]
  },
  {
   "cell_type": "markdown",
   "metadata": {},
   "source": [
    "## Entrenamiento"
   ]
  },
  {
   "cell_type": "markdown",
   "metadata": {
    "id": "SI8NU5dgrQXC"
   },
   "source": [
    "Cargamos el modelo si ya fue guardado"
   ]
  },
  {
   "cell_type": "code",
   "execution_count": 17,
   "metadata": {
    "colab": {
     "base_uri": "https://localhost:8080/"
    },
    "id": "Pnc8hNEuidYm",
    "outputId": "9779aa41-4a69-4b2c-fbc0-af9ea2f1a295"
   },
   "outputs": [
    {
     "name": "stdout",
     "output_type": "stream",
     "text": [
      "Modelo nuevo.\n"
     ]
    }
   ],
   "source": [
    "try:\n",
    "    std_dict = torch.load('./dpc_net.pth', map_location=torch.device(\"cpu\"))\n",
    "    net.load_state_dict(std_dict)\n",
    "    print(\"Modelo cargado.\")\n",
    "except:\n",
    "    print(\"Modelo nuevo.\")"
   ]
  },
  {
   "cell_type": "code",
   "execution_count": 18,
   "metadata": {},
   "outputs": [
    {
     "name": "stdout",
     "output_type": "stream",
     "text": [
      "Final loss: 3.70\n",
      "Modelo Guardado\n",
      "Finished Training\n"
     ]
    }
   ],
   "source": [
    "# Inicalizamos el modelo y las funciones necesarias para el entrenamiento.\n",
    "net = DPC_NET()\n",
    "\n",
    "criterion = nn.CrossEntropyLoss()\n",
    "optimizer = optim.Adam(net.parameters(), lr=0.001)\n",
    "\n",
    "iterations = 10000\n",
    "\n",
    "loss_array = np.array([])\n",
    "\n",
    "for epoch in range(iterations):  # loop over the complete dataset multiple times\n",
    "    running_loss = 0.0\n",
    "    for i, data in enumerate(train_loader, 0):\n",
    "        # get the inputs; data is a list of [inputs, labels]\n",
    "        inputs, labels = data\n",
    "\n",
    "        # zero the parameter gradients\n",
    "        optimizer.zero_grad()\n",
    "\n",
    "        # forward + backward + optimize\n",
    "        outputs = net(inputs)\n",
    "        loss = criterion(outputs, labels)\n",
    "        loss.backward()\n",
    "        optimizer.step()\n",
    "\n",
    "        # print statistics\n",
    "        running_loss += loss.item()\n",
    "        \n",
    "    loss_array = np.append(loss_array, running_loss)\n",
    "\n",
    "    \n",
    "final_loss = loss_array[-1]\n",
    "print('Final loss: %.2f' % final_loss)\n",
    "\n",
    "torch.save(net.state_dict(), \"./dpc_net.pth\")\n",
    "print(\"Modelo Guardado\")\n",
    "\n",
    "print('Finished Training')"
   ]
  },
  {
   "cell_type": "code",
   "execution_count": 19,
   "metadata": {},
   "outputs": [
    {
     "data": {
      "image/png": "[encoded data removed]",
      "text/plain": [
       "<Figure size 432x288 with 1 Axes>"
      ]
     },
     "metadata": {
      "needs_background": "light"
     },
     "output_type": "display_data"
    }
   ],
   "source": [
    "# Graficamos la funcion de perdida durante el entrenamiento\n",
    "\n",
    "plt.plot(loss_array)\n",
    "plt.title('Training loss function')\n",
    "plt.xlabel('Epoch')\n",
    "plt.ylabel('Loss')\n",
    "plt.show()"
   ]
  },
  {
   "cell_type": "markdown",
   "metadata": {},
   "source": [
    "## Pruebas\n",
    "\n",
    "Ya que el objtivo de esta red es poder identificar aquellas muestras con una etiqueta en específico, el accuracy (la proporción de datos bien clasificados) no resulta ser la mejor medida. En este caso el recall y el precision nos darán una mejor evaluación de la clasificación, recordemos que\n",
    "\n",
    "1. _recall_ mide la habilidad del clasificador de encontrar todas las muestras positivas, mientras que\n",
    "2. _precision_ mide la habilidad de no clasificar como positiva una muestra que es negativa\n",
    "\n",
    "más aún nosotros tomaremos como principal medida de evaluación el AUC que es el área debajo de la curva ROC. La curva ROC es una medida que sintetiza las características del recall y el precision y su área toma valores entre 0 y 1, siendo los valores cercanos a 1 los mejores. Tomaremos el AUC como referencia para compara los resultados de otros modelos de clasificación presentados en la referencia [1]."
   ]
  },
  {
   "cell_type": "code",
   "execution_count": 22,
   "metadata": {},
   "outputs": [
    {
     "name": "stdout",
     "output_type": "stream",
     "text": [
      "AUC : 0.6039823008849557\n"
     ]
    },
    {
     "data": {
      "image/png": "[encoded data removed]",
      "text/plain": [
       "<Figure size 648x432 with 1 Axes>"
      ]
     },
     "metadata": {
      "needs_background": "light"
     },
     "output_type": "display_data"
    }
   ],
   "source": [
    "# Pasamos los datos de prueba por la red para obtener las predicciones\n",
    "y_true = torch.tensor([])\n",
    "outputs = torch.tensor([])\n",
    "\n",
    "for data, labels in test_loader:\n",
    "    y_true = torch.cat((y_true, labels), 0)\n",
    "    outputs = torch.cat((outputs, net(data)), 0)\n",
    "    \n",
    "_, y_pred = torch.max(outputs, 1)\n",
    "\n",
    "# Calculamos la matiz de confusion y otras medidas de evaluacion\n",
    "auc = metrics.roc_auc_score(y_true, y_pred)\n",
    "conf_mat = metrics.confusion_matrix(y_true, y_pred)\n",
    "\n",
    "print('AUC :', auc)\n",
    "\n",
    "# Hacemos un plot de la matrix de confusion\n",
    "f, ax = plt.subplots(figsize=(9, 6))\n",
    "sns.heatmap(conf_mat, annot=True, fmt=\"d\", cbar=False, linewidths=.5, ax=ax)\n",
    "\n",
    "ax.set_title('Confusion Matrix')\n",
    "ax.set_xlabel('Predicted')\n",
    "ax.set_ylabel('True label')\n",
    "\n",
    "plt.show()"
   ]
  },
  {
   "cell_type": "markdown",
   "metadata": {},
   "source": [
    "## Conclusiones\n",
    "\n",
    "En la referencia [1] encontramos una síntesis del trabajo elaborado al rededor de la predicción de la drogabilidad de las proteínas. A pesar de que los métodos obtenidos para extraer las características de las proteínas en este trabjo son distintas a las presentadas en el artículo [1], podemos hacer una comparación para darnos una idea del rendimiento de distintos modelos y comparar con los resultados obtenidos por nuestra red neuronal. A continuación mostramos los resultados de aplicar algunos modelos de clasificación clásicos tomando como medida de referencia el AUC\n",
    "\n",
    "| Algoritmo               | AUC    |\n",
    "|-------------------------|--------|\n",
    "| Support Vector Machines | 69.21% |\n",
    "| Logistic Regression     | 63.27% |\n",
    "| Decision Tree           | 82 %   |\n",
    "| Rank-based method       | 76 %   |\n",
    "\n",
    "Como podemos ver, el rendimiento de nuestra red neuronal se puede considerar aceptable pero no supera a ninguno de los métodos clásicos. Más aún, comparando el costo computacional podríamos pensar que las redes de aprendizaje profundo no son el mejor modelo a considerar al momento de realizar un trabajo de clasificación. Sin embargo, será necesario probar la evaluación de distintas características como las extraídas a partir de la biología de sistemas para corroborar el rendimiento de las redes neuronales. \n",
    "\n",
    "Otro factor que tenemos que considerar es que en este caso nos vimos forzados a trabajar con una base de datos pequeña con la finalidad de balancear el tamaño de las muestras positivas y negativas. "
   ]
  },
  {
   "cell_type": "markdown",
   "metadata": {},
   "source": [
    "Referencias\n",
    "\n",
    "1. Kandoi G, Acencio ML and Lemke N (2015) _Prediction of Druggable Proteins Using Machine Learning and Systems Biology: A Mini-Review._ Front. Physiol. 6:366. doi: 10.3389/fphys.2015.00366\n",
    "\n",
    "2.  Jamali, A.A., Ferdousi, R., Razzaghi, S., Li, J., Safdari, R., Ebrahimie, E., _DrugMiner: comparative analysis of machine-learning algorithms for prediction of potential druggable proteins_, Drug Discovery Today (2016), http://dx.doi.org/10.1016/j.drudis.2016.01.007"
   ]
  }
 ],
 "metadata": {
  "kernelspec": {
   "display_name": "Python 3",
   "language": "python",
   "name": "python3"
  },
  "language_info": {
   "codemirror_mode": {
    "name": "ipython",
    "version": 3
   },
   "file_extension": ".py",
   "mimetype": "text/x-python",
   "name": "python",
   "nbconvert_exporter": "python",
   "pygments_lexer": "ipython3",
   "version": "3.8.5"
  }
 },
 "nbformat": 4,
 "nbformat_minor": 4
}
